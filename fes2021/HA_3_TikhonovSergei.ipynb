{
 "cells": [
  {
   "cell_type": "markdown",
   "metadata": {},
   "source": [
    "# Домашнее задание: модели классификации и оценка их качества.\n",
    "\n",
    "Будем тренироваться обучать модели классификации и интерпретировать их качество."
   ]
  },
  {
   "cell_type": "markdown",
   "metadata": {},
   "source": [
    "Выполнил: Тихонов Сергей, БЭК181"
   ]
  },
  {
   "cell_type": "markdown",
   "metadata": {},
   "source": [
    "## Часть 1. Обучение моделей классификации (5 баллов). \n",
    "\n",
    "Поработайте с датасетом telecom_churn. Вам предстоит по характеристикам клиента предсказать, уйдет он или нет (целевая колонка - Churn).\n",
    "\n",
    "A. Решите задачу с помощью логистической регрессии:\n",
    "- подберите значение гиперпараметров с помощью GridSearchCV\n",
    "Что вы можете сказать об алгоритме? Он переобучился/недообучился/обучился как надо и вы довольны качеством?\n",
    "\n",
    "B. Решите задачу с помощью метода опорных векторов (с kernel = 'linear'):\n",
    "- подберите значение гиперпараметров с помощью GridSearchCV\n",
    "Что вы можете сказать об алгоритме? Он переобучился/недообучился/обучился как надо и вы довольны качеством?\n",
    "\n",
    "Не забудьте масштабировать данные перед применением линейных моделей.\n",
    "\n",
    "C. Попробуйте увеличить число признаков с помощью добавления полиномиальных признаков. Также можно добавить функции от признаков вручную (те, которые вам кажутся подходящими в данной задаче).\n",
    "Улучшилось ли качество алгоритма?\n",
    "\n",
    "D. Постройте матрицу корреляций признаков. Есть ли признаки, которые практически не коррелируют с целевой переменной? Попробуйте их удалить. Есть ли пары сильно коррелирующих между собой признаков? Удалите по одному признаку из каждой пары.\n",
    "Помогло ли это улучшить качество в данной задаче?\n",
    "\n",
    "Пункты C и D можно скомбинировать для достижения наилучшего качества.\n",
    "\n",
    "E. Сделайте мини-отчет о проведенной работе. Для этого ответьте на вопросы:\n",
    "a) какой классификатор дал наилучший результат? чему равны значения метрик accuracy, f1-score и ROC-AUC? \n",
    "(Вы можете изначально разбить данные на train и test и сравнивать значения метрик на этих выборках; или же можно оценивать качество алгоритмов по кросс-валидации).\n",
    "\n",
    "b) какие новые признаки вы добавили и какие признаки удалили?\n",
    "\n",
    "c) удалось ли добиться того, что алгоритм не переобучился и не недообучился?"
   ]
  },
  {
   "cell_type": "code",
   "execution_count": 1,
   "metadata": {},
   "outputs": [
    {
     "name": "stdout",
     "output_type": "stream",
     "text": [
      "Populating the interactive namespace from numpy and matplotlib\n"
     ]
    }
   ],
   "source": [
    "import pandas as pd\n",
    "import matplotlib.pyplot as plt\n",
    "import warnings\n",
    "warnings.filterwarnings('ignore')\n",
    "\n",
    "%pylab inline"
   ]
  },
  {
   "cell_type": "markdown",
   "metadata": {},
   "source": [
    "## Загрузка данных:"
   ]
  },
  {
   "cell_type": "code",
   "execution_count": 2,
   "metadata": {},
   "outputs": [
    {
     "data": {
      "text/html": [
       "<div>\n",
       "<style scoped>\n",
       "    .dataframe tbody tr th:only-of-type {\n",
       "        vertical-align: middle;\n",
       "    }\n",
       "\n",
       "    .dataframe tbody tr th {\n",
       "        vertical-align: top;\n",
       "    }\n",
       "\n",
       "    .dataframe thead th {\n",
       "        text-align: right;\n",
       "    }\n",
       "</style>\n",
       "<table border=\"1\" class=\"dataframe\">\n",
       "  <thead>\n",
       "    <tr style=\"text-align: right;\">\n",
       "      <th></th>\n",
       "      <th>State</th>\n",
       "      <th>Account length</th>\n",
       "      <th>Area code</th>\n",
       "      <th>International plan</th>\n",
       "      <th>Voice mail plan</th>\n",
       "      <th>Number vmail messages</th>\n",
       "      <th>Total day minutes</th>\n",
       "      <th>Total day calls</th>\n",
       "      <th>Total day charge</th>\n",
       "      <th>Total eve minutes</th>\n",
       "      <th>Total eve calls</th>\n",
       "      <th>Total eve charge</th>\n",
       "      <th>Total night minutes</th>\n",
       "      <th>Total night calls</th>\n",
       "      <th>Total night charge</th>\n",
       "      <th>Total intl minutes</th>\n",
       "      <th>Total intl calls</th>\n",
       "      <th>Total intl charge</th>\n",
       "      <th>Customer service calls</th>\n",
       "      <th>Churn</th>\n",
       "    </tr>\n",
       "  </thead>\n",
       "  <tbody>\n",
       "    <tr>\n",
       "      <th>0</th>\n",
       "      <td>KS</td>\n",
       "      <td>128</td>\n",
       "      <td>415</td>\n",
       "      <td>No</td>\n",
       "      <td>Yes</td>\n",
       "      <td>25</td>\n",
       "      <td>265.1</td>\n",
       "      <td>110</td>\n",
       "      <td>45.07</td>\n",
       "      <td>197.4</td>\n",
       "      <td>99</td>\n",
       "      <td>16.78</td>\n",
       "      <td>244.7</td>\n",
       "      <td>91</td>\n",
       "      <td>11.01</td>\n",
       "      <td>10.0</td>\n",
       "      <td>3</td>\n",
       "      <td>2.70</td>\n",
       "      <td>1</td>\n",
       "      <td>False</td>\n",
       "    </tr>\n",
       "    <tr>\n",
       "      <th>1</th>\n",
       "      <td>OH</td>\n",
       "      <td>107</td>\n",
       "      <td>415</td>\n",
       "      <td>No</td>\n",
       "      <td>Yes</td>\n",
       "      <td>26</td>\n",
       "      <td>161.6</td>\n",
       "      <td>123</td>\n",
       "      <td>27.47</td>\n",
       "      <td>195.5</td>\n",
       "      <td>103</td>\n",
       "      <td>16.62</td>\n",
       "      <td>254.4</td>\n",
       "      <td>103</td>\n",
       "      <td>11.45</td>\n",
       "      <td>13.7</td>\n",
       "      <td>3</td>\n",
       "      <td>3.70</td>\n",
       "      <td>1</td>\n",
       "      <td>False</td>\n",
       "    </tr>\n",
       "    <tr>\n",
       "      <th>2</th>\n",
       "      <td>NJ</td>\n",
       "      <td>137</td>\n",
       "      <td>415</td>\n",
       "      <td>No</td>\n",
       "      <td>No</td>\n",
       "      <td>0</td>\n",
       "      <td>243.4</td>\n",
       "      <td>114</td>\n",
       "      <td>41.38</td>\n",
       "      <td>121.2</td>\n",
       "      <td>110</td>\n",
       "      <td>10.30</td>\n",
       "      <td>162.6</td>\n",
       "      <td>104</td>\n",
       "      <td>7.32</td>\n",
       "      <td>12.2</td>\n",
       "      <td>5</td>\n",
       "      <td>3.29</td>\n",
       "      <td>0</td>\n",
       "      <td>False</td>\n",
       "    </tr>\n",
       "    <tr>\n",
       "      <th>3</th>\n",
       "      <td>OH</td>\n",
       "      <td>84</td>\n",
       "      <td>408</td>\n",
       "      <td>Yes</td>\n",
       "      <td>No</td>\n",
       "      <td>0</td>\n",
       "      <td>299.4</td>\n",
       "      <td>71</td>\n",
       "      <td>50.90</td>\n",
       "      <td>61.9</td>\n",
       "      <td>88</td>\n",
       "      <td>5.26</td>\n",
       "      <td>196.9</td>\n",
       "      <td>89</td>\n",
       "      <td>8.86</td>\n",
       "      <td>6.6</td>\n",
       "      <td>7</td>\n",
       "      <td>1.78</td>\n",
       "      <td>2</td>\n",
       "      <td>False</td>\n",
       "    </tr>\n",
       "    <tr>\n",
       "      <th>4</th>\n",
       "      <td>OK</td>\n",
       "      <td>75</td>\n",
       "      <td>415</td>\n",
       "      <td>Yes</td>\n",
       "      <td>No</td>\n",
       "      <td>0</td>\n",
       "      <td>166.7</td>\n",
       "      <td>113</td>\n",
       "      <td>28.34</td>\n",
       "      <td>148.3</td>\n",
       "      <td>122</td>\n",
       "      <td>12.61</td>\n",
       "      <td>186.9</td>\n",
       "      <td>121</td>\n",
       "      <td>8.41</td>\n",
       "      <td>10.1</td>\n",
       "      <td>3</td>\n",
       "      <td>2.73</td>\n",
       "      <td>3</td>\n",
       "      <td>False</td>\n",
       "    </tr>\n",
       "  </tbody>\n",
       "</table>\n",
       "</div>"
      ],
      "text/plain": [
       "  State  Account length  Area code International plan Voice mail plan  \\\n",
       "0    KS             128        415                 No             Yes   \n",
       "1    OH             107        415                 No             Yes   \n",
       "2    NJ             137        415                 No              No   \n",
       "3    OH              84        408                Yes              No   \n",
       "4    OK              75        415                Yes              No   \n",
       "\n",
       "   Number vmail messages  Total day minutes  Total day calls  \\\n",
       "0                     25              265.1              110   \n",
       "1                     26              161.6              123   \n",
       "2                      0              243.4              114   \n",
       "3                      0              299.4               71   \n",
       "4                      0              166.7              113   \n",
       "\n",
       "   Total day charge  Total eve minutes  Total eve calls  Total eve charge  \\\n",
       "0             45.07              197.4               99             16.78   \n",
       "1             27.47              195.5              103             16.62   \n",
       "2             41.38              121.2              110             10.30   \n",
       "3             50.90               61.9               88              5.26   \n",
       "4             28.34              148.3              122             12.61   \n",
       "\n",
       "   Total night minutes  Total night calls  Total night charge  \\\n",
       "0                244.7                 91               11.01   \n",
       "1                254.4                103               11.45   \n",
       "2                162.6                104                7.32   \n",
       "3                196.9                 89                8.86   \n",
       "4                186.9                121                8.41   \n",
       "\n",
       "   Total intl minutes  Total intl calls  Total intl charge  \\\n",
       "0                10.0                 3               2.70   \n",
       "1                13.7                 3               3.70   \n",
       "2                12.2                 5               3.29   \n",
       "3                 6.6                 7               1.78   \n",
       "4                10.1                 3               2.73   \n",
       "\n",
       "   Customer service calls  Churn  \n",
       "0                       1  False  \n",
       "1                       1  False  \n",
       "2                       0  False  \n",
       "3                       2  False  \n",
       "4                       3  False  "
      ]
     },
     "execution_count": 2,
     "metadata": {},
     "output_type": "execute_result"
    }
   ],
   "source": [
    "df = pd.read_csv(\"telecom_churn.csv\")\n",
    "df.head()"
   ]
  },
  {
   "cell_type": "code",
   "execution_count": 3,
   "metadata": {},
   "outputs": [],
   "source": [
    "X = df.iloc[:,:-1]\n",
    "y = df['Churn'].astype('int64')"
   ]
  },
  {
   "cell_type": "code",
   "execution_count": 4,
   "metadata": {},
   "outputs": [
    {
     "data": {
      "text/plain": [
       "False"
      ]
     },
     "execution_count": 4,
     "metadata": {},
     "output_type": "execute_result"
    }
   ],
   "source": [
    "# Пропущенных значений нет\n",
    "\n",
    "X.isnull().any().any()"
   ]
  },
  {
   "cell_type": "code",
   "execution_count": 5,
   "metadata": {},
   "outputs": [
    {
     "data": {
      "text/plain": [
       "State                      object\n",
       "Account length              int64\n",
       "Area code                   int64\n",
       "International plan         object\n",
       "Voice mail plan            object\n",
       "Number vmail messages       int64\n",
       "Total day minutes         float64\n",
       "Total day calls             int64\n",
       "Total day charge          float64\n",
       "Total eve minutes         float64\n",
       "Total eve calls             int64\n",
       "Total eve charge          float64\n",
       "Total night minutes       float64\n",
       "Total night calls           int64\n",
       "Total night charge        float64\n",
       "Total intl minutes        float64\n",
       "Total intl calls            int64\n",
       "Total intl charge         float64\n",
       "Customer service calls      int64\n",
       "dtype: object"
      ]
     },
     "execution_count": 5,
     "metadata": {},
     "output_type": "execute_result"
    }
   ],
   "source": [
    "# Рассмотрим типы данных в задаче:\n",
    "\n",
    "X.dtypes"
   ]
  },
  {
   "cell_type": "code",
   "execution_count": 6,
   "metadata": {},
   "outputs": [],
   "source": [
    "# Разделим колонки на числовые и категориальные, чтобы проще было обработать каждые\n",
    "\n",
    "num_cols = X.columns[(X.dtypes == 'int64') | (X.dtypes == 'float64')].tolist()\n",
    "cat_cols = X.columns[X.dtypes == 'object']"
   ]
  },
  {
   "cell_type": "code",
   "execution_count": 7,
   "metadata": {},
   "outputs": [],
   "source": [
    "from sklearn.model_selection import train_test_split\n",
    "\n",
    "X_train, X_test, y_train, y_test = train_test_split(X, y, random_state=10)"
   ]
  },
  {
   "cell_type": "markdown",
   "metadata": {},
   "source": [
    "## Обработка числовых признаков:"
   ]
  },
  {
   "cell_type": "code",
   "execution_count": 8,
   "metadata": {},
   "outputs": [],
   "source": [
    "# Стандартизируем числовые данные\n",
    "\n",
    "from sklearn.preprocessing import StandardScaler\n",
    "\n",
    "scaler = StandardScaler()\n",
    "X_train[num_cols] = scaler.fit_transform(X_train[num_cols])\n",
    "X_test[num_cols] = scaler.transform(X_test[num_cols])"
   ]
  },
  {
   "cell_type": "markdown",
   "metadata": {},
   "source": [
    "## Обработка категориальных признаков:"
   ]
  },
  {
   "cell_type": "code",
   "execution_count": 9,
   "metadata": {},
   "outputs": [
    {
     "data": {
      "text/plain": [
       "51"
      ]
     },
     "execution_count": 9,
     "metadata": {},
     "output_type": "execute_result"
    }
   ],
   "source": [
    "# Целых 51 уникальных значений = 51 новый столбец. На самом деле, не так много, поэтому попробую и One_hot, и Target \n",
    "# Я сторонник Одного Горячего, поскольку Таргет часто переобучается (см. лекцию) и часто показывает качество хуже\n",
    "\n",
    "X.State.value_counts().count()"
   ]
  },
  {
   "cell_type": "code",
   "execution_count": 10,
   "metadata": {},
   "outputs": [],
   "source": [
    "from category_encoders.target_encoder import TargetEncoder\n",
    "\n",
    "tgt_enc = TargetEncoder(smoothing=1)\n",
    "\n",
    "X_train['State'] = tgt_enc.fit_transform(X_train['State'], y_train)\n",
    "X_test['State'] = tgt_enc.transform(X_test['State'], y_test);"
   ]
  },
  {
   "cell_type": "code",
   "execution_count": 11,
   "metadata": {},
   "outputs": [],
   "source": [
    "# Будем использовать pd.get_dummies а не sklearn One_hot, тк просто удобнее и в одну строчку:\n",
    "\n",
    "X_train = pd.get_dummies(X_train, ['International plan', 'Voice mail plan'], drop_first=True)\n",
    "X_test = pd.get_dummies(X_test, ['International plan', 'Voice mail plan'], drop_first=True)"
   ]
  },
  {
   "cell_type": "markdown",
   "metadata": {},
   "source": [
    "## Кросс-валидация и обучение модели:"
   ]
  },
  {
   "cell_type": "code",
   "execution_count": 12,
   "metadata": {},
   "outputs": [],
   "source": [
    "from sklearn.model_selection import GridSearchCV\n",
    "from sklearn.linear_model import LogisticRegression\n",
    "from sklearn.svm import SVC\n",
    "from sklearn.metrics import accuracy_score\n",
    "from sklearn.metrics import roc_curve, auc, f1_score,  make_scorer\n",
    "\n",
    "f1 = make_scorer(f1_score)"
   ]
  },
  {
   "cell_type": "code",
   "execution_count": 13,
   "metadata": {},
   "outputs": [
    {
     "name": "stdout",
     "output_type": "stream",
     "text": [
      "Оптимальный С для Logreg: 4.1\n",
      "Оптимальный С для SVM: 0.1\n"
     ]
    }
   ],
   "source": [
    "from sklearn.model_selection import GridSearchCV\n",
    "\n",
    "params = {'C': np.arange(0.1, 7, 0.5)}\n",
    "lr = LogisticRegression()\n",
    "svm = SVC(kernel='linear')\n",
    "\n",
    "cv_lr = GridSearchCV(lr,\n",
    "                  params,\n",
    "                  scoring=f1,\n",
    "                  cv=5\n",
    "                 )\n",
    "cv_lr.fit(X_train, y_train)\n",
    "\n",
    "cv_svm = GridSearchCV(svm,\n",
    "                  params,\n",
    "                  scoring=f1,\n",
    "                  cv=5\n",
    "                 )\n",
    "cv_svm.fit(X_train, y_train)\n",
    "\n",
    "C_best_lr = cv_lr.best_params_['C']\n",
    "print('Оптимальный С для Logreg:', cv_lr.best_params_['C'])\n",
    "C_best_svm = cv_svm.best_params_['C']\n",
    "print('Оптимальный С для SVM:',cv_svm.best_params_['C'])"
   ]
  },
  {
   "cell_type": "code",
   "execution_count": 14,
   "metadata": {},
   "outputs": [
    {
     "name": "stdout",
     "output_type": "stream",
     "text": [
      "0.8597122302158273\n"
     ]
    }
   ],
   "source": [
    "lr_best = LogisticRegression(C=C_best_lr, penalty = 'l2') \n",
    "lr_best.fit(X_train, y_train)\n",
    "y_pred_lr = lr_best.predict(X_test)\n",
    "print(accuracy_score(y_test, y_pred_lr))"
   ]
  },
  {
   "cell_type": "code",
   "execution_count": 15,
   "metadata": {},
   "outputs": [
    {
     "name": "stdout",
     "output_type": "stream",
     "text": [
      "F1-score логистической регрессии: 0.2641509433962264\n",
      "Roc-auc логистической регрессии: 0.8400069485549579\n"
     ]
    }
   ],
   "source": [
    "tpr, fpr, _ = roc_curve(y_train, lr_best.predict_proba(X_train)[:, 0])\n",
    "\n",
    "print('F1-score логистической регрессии:', f1_score(y_test, y_pred_lr))\n",
    "print('Roc-auc логистической регрессии:', auc(fpr, tpr))"
   ]
  },
  {
   "cell_type": "code",
   "execution_count": 16,
   "metadata": {},
   "outputs": [
    {
     "name": "stdout",
     "output_type": "stream",
     "text": [
      "0.8573141486810552\n"
     ]
    }
   ],
   "source": [
    "svm_best = SVC(kernel='linear', C=C_best_svm, probability=True) \n",
    "svm_best.fit(X_train, y_train)\n",
    "y_pred_svm = svm_best.predict(X_test)\n",
    "print(accuracy_score(y_test, y_pred_svm))"
   ]
  },
  {
   "cell_type": "code",
   "execution_count": 17,
   "metadata": {},
   "outputs": [
    {
     "name": "stdout",
     "output_type": "stream",
     "text": [
      "F1-score SVM: 0.0\n",
      "Roc-auc SVM: 0.8180894047404585\n"
     ]
    }
   ],
   "source": [
    "tpr, fpr, _ = roc_curve(y_train, svm_best.predict_proba(X_train)[:, 0])\n",
    "\n",
    "print('F1-score SVM:', f1_score(y_test, y_pred_svm))\n",
    "print('Roc-auc SVM:', auc(fpr, tpr))"
   ]
  },
  {
   "cell_type": "markdown",
   "metadata": {},
   "source": [
    "## Матрица корреляций и полиномиальные признаки"
   ]
  },
  {
   "cell_type": "code",
   "execution_count": 18,
   "metadata": {},
   "outputs": [
    {
     "data": {
      "text/plain": [
       "Account length            False\n",
       "Area code                 False\n",
       "Number vmail messages     False\n",
       "Total day minutes          True\n",
       "Total day calls           False\n",
       "Total day charge           True\n",
       "Total eve minutes          True\n",
       "Total eve calls           False\n",
       "Total eve charge           True\n",
       "Total night minutes       False\n",
       "Total night calls         False\n",
       "Total night charge        False\n",
       "Total intl minutes        False\n",
       "Total intl calls          False\n",
       "Total intl charge         False\n",
       "Customer service calls     True\n",
       "Churn                      True\n",
       "Name: Churn, dtype: bool"
      ]
     },
     "execution_count": 18,
     "metadata": {},
     "output_type": "execute_result"
    }
   ],
   "source": [
    "# Возьмем те признаки, которые имеют хоть какую-то линейную зависимость от таргета\n",
    "\n",
    "df.corr()['Churn'] > 0.07"
   ]
  },
  {
   "cell_type": "code",
   "execution_count": 19,
   "metadata": {},
   "outputs": [],
   "source": [
    "from sklearn.preprocessing import PolynomialFeatures\n",
    "\n",
    "X_train, X_test, y_train, y_test = train_test_split(X[['Total day minutes', 'Total day charge','Total eve minutes', 'Total eve charge', 'Customer service calls']], y, random_state=10)\n",
    "\n",
    "scaler = StandardScaler()\n",
    "X_train = scaler.fit_transform(X_train)\n",
    "X_test = scaler.transform(X_test)\n",
    "\n",
    "poly = PolynomialFeatures(3)\n",
    "X_train = poly.fit_transform(X_train)\n",
    "X_test = poly.transform(X_test)"
   ]
  },
  {
   "cell_type": "code",
   "execution_count": 20,
   "metadata": {},
   "outputs": [
    {
     "name": "stdout",
     "output_type": "stream",
     "text": [
      "{'C': 3.1}\n",
      "{'C': 5.1}\n"
     ]
    }
   ],
   "source": [
    "params = {'C': np.arange(0.1, 7, 0.5)}\n",
    "lr = LogisticRegression()\n",
    "svm = SVC(kernel='linear')\n",
    "\n",
    "cv_lr = GridSearchCV(lr,\n",
    "                  params,\n",
    "                  scoring=f1,\n",
    "                  cv=5\n",
    "                 )\n",
    "cv_lr.fit(X_train, y_train)\n",
    "\n",
    "cv_svm = GridSearchCV(svm,\n",
    "                  params,\n",
    "                  scoring=f1,  \n",
    "                  cv=5\n",
    "                 )\n",
    "cv_svm.fit(X_train, y_train)\n",
    "\n",
    "C_best_lr = cv_lr.best_params_['C']\n",
    "print(cv_lr.best_params_)\n",
    "C_best_svm = cv_svm.best_params_['C']\n",
    "print(cv_svm.best_params_)"
   ]
  },
  {
   "cell_type": "code",
   "execution_count": 21,
   "metadata": {},
   "outputs": [
    {
     "name": "stdout",
     "output_type": "stream",
     "text": [
      "0.8908872901678657\n"
     ]
    }
   ],
   "source": [
    "lr_best = LogisticRegression(C=C_best_lr, penalty = 'l2') \n",
    "lr_best.fit(X_train, y_train)\n",
    "y_pred_lr = lr_best.predict(X_test)\n",
    "print(accuracy_score(y_test, y_pred_lr))"
   ]
  },
  {
   "cell_type": "code",
   "execution_count": 22,
   "metadata": {},
   "outputs": [
    {
     "name": "stdout",
     "output_type": "stream",
     "text": [
      "F1-score логистической регрессии: 0.46153846153846156\n",
      "Roc-auc логистической регрессии: 0.8449185474946599\n"
     ]
    }
   ],
   "source": [
    "tpr, fpr, _ = roc_curve(y_train, lr_best.predict_proba(X_train)[:, 0])\n",
    "\n",
    "print('F1-score логистической регрессии:', f1_score(y_test, y_pred_lr))\n",
    "print('Roc-auc логистической регрессии:', auc(fpr, tpr))"
   ]
  },
  {
   "cell_type": "code",
   "execution_count": 23,
   "metadata": {},
   "outputs": [
    {
     "name": "stdout",
     "output_type": "stream",
     "text": [
      "0.894484412470024\n"
     ]
    }
   ],
   "source": [
    "svm_best = SVC(kernel='linear', C=C_best_svm, probability=True) \n",
    "svm_best.fit(X_train, y_train)\n",
    "y_pred_svm = svm_best.predict(X_test)\n",
    "print(accuracy_score(y_test, y_pred_svm))"
   ]
  },
  {
   "cell_type": "code",
   "execution_count": 24,
   "metadata": {},
   "outputs": [
    {
     "name": "stdout",
     "output_type": "stream",
     "text": [
      "F1-score SVM: 0.4634146341463415\n",
      "Roc-auc SVM: 0.8385155827778779\n"
     ]
    }
   ],
   "source": [
    "tpr, fpr, _ = roc_curve(y_train, svm_best.predict_proba(X_train)[:, 0])\n",
    "\n",
    "print('F1-score SVM:', f1_score(y_test, y_pred_svm))\n",
    "print('Roc-auc SVM:', auc(fpr, tpr))"
   ]
  },
  {
   "cell_type": "markdown",
   "metadata": {},
   "source": [
    "## Попробуем удалить коррелируемые друг с другом регрессоры"
   ]
  },
  {
   "cell_type": "code",
   "execution_count": 25,
   "metadata": {},
   "outputs": [
    {
     "data": {
      "text/html": [
       "<div>\n",
       "<style scoped>\n",
       "    .dataframe tbody tr th:only-of-type {\n",
       "        vertical-align: middle;\n",
       "    }\n",
       "\n",
       "    .dataframe tbody tr th {\n",
       "        vertical-align: top;\n",
       "    }\n",
       "\n",
       "    .dataframe thead th {\n",
       "        text-align: right;\n",
       "    }\n",
       "</style>\n",
       "<table border=\"1\" class=\"dataframe\">\n",
       "  <thead>\n",
       "    <tr style=\"text-align: right;\">\n",
       "      <th></th>\n",
       "      <th>Account length</th>\n",
       "      <th>Area code</th>\n",
       "      <th>Number vmail messages</th>\n",
       "      <th>Total day minutes</th>\n",
       "      <th>Total day calls</th>\n",
       "      <th>Total day charge</th>\n",
       "      <th>Total eve minutes</th>\n",
       "      <th>Total eve calls</th>\n",
       "      <th>Total eve charge</th>\n",
       "      <th>Total night minutes</th>\n",
       "      <th>Total night calls</th>\n",
       "      <th>Total night charge</th>\n",
       "      <th>Total intl minutes</th>\n",
       "      <th>Total intl calls</th>\n",
       "      <th>Total intl charge</th>\n",
       "      <th>Customer service calls</th>\n",
       "      <th>Churn</th>\n",
       "    </tr>\n",
       "  </thead>\n",
       "  <tbody>\n",
       "    <tr>\n",
       "      <th>Account length</th>\n",
       "      <td>True</td>\n",
       "      <td>False</td>\n",
       "      <td>False</td>\n",
       "      <td>False</td>\n",
       "      <td>True</td>\n",
       "      <td>False</td>\n",
       "      <td>False</td>\n",
       "      <td>True</td>\n",
       "      <td>False</td>\n",
       "      <td>False</td>\n",
       "      <td>False</td>\n",
       "      <td>False</td>\n",
       "      <td>False</td>\n",
       "      <td>True</td>\n",
       "      <td>False</td>\n",
       "      <td>False</td>\n",
       "      <td>True</td>\n",
       "    </tr>\n",
       "    <tr>\n",
       "      <th>Area code</th>\n",
       "      <td>False</td>\n",
       "      <td>True</td>\n",
       "      <td>False</td>\n",
       "      <td>False</td>\n",
       "      <td>False</td>\n",
       "      <td>False</td>\n",
       "      <td>False</td>\n",
       "      <td>False</td>\n",
       "      <td>False</td>\n",
       "      <td>False</td>\n",
       "      <td>True</td>\n",
       "      <td>False</td>\n",
       "      <td>False</td>\n",
       "      <td>False</td>\n",
       "      <td>False</td>\n",
       "      <td>True</td>\n",
       "      <td>False</td>\n",
       "    </tr>\n",
       "    <tr>\n",
       "      <th>Number vmail messages</th>\n",
       "      <td>False</td>\n",
       "      <td>False</td>\n",
       "      <td>True</td>\n",
       "      <td>False</td>\n",
       "      <td>False</td>\n",
       "      <td>False</td>\n",
       "      <td>True</td>\n",
       "      <td>False</td>\n",
       "      <td>True</td>\n",
       "      <td>False</td>\n",
       "      <td>False</td>\n",
       "      <td>False</td>\n",
       "      <td>False</td>\n",
       "      <td>True</td>\n",
       "      <td>False</td>\n",
       "      <td>False</td>\n",
       "      <td>False</td>\n",
       "    </tr>\n",
       "    <tr>\n",
       "      <th>Total day minutes</th>\n",
       "      <td>False</td>\n",
       "      <td>False</td>\n",
       "      <td>False</td>\n",
       "      <td>True</td>\n",
       "      <td>False</td>\n",
       "      <td>True</td>\n",
       "      <td>False</td>\n",
       "      <td>True</td>\n",
       "      <td>False</td>\n",
       "      <td>False</td>\n",
       "      <td>True</td>\n",
       "      <td>False</td>\n",
       "      <td>False</td>\n",
       "      <td>False</td>\n",
       "      <td>False</td>\n",
       "      <td>False</td>\n",
       "      <td>True</td>\n",
       "    </tr>\n",
       "    <tr>\n",
       "      <th>Total day calls</th>\n",
       "      <td>True</td>\n",
       "      <td>False</td>\n",
       "      <td>False</td>\n",
       "      <td>False</td>\n",
       "      <td>True</td>\n",
       "      <td>False</td>\n",
       "      <td>False</td>\n",
       "      <td>False</td>\n",
       "      <td>False</td>\n",
       "      <td>True</td>\n",
       "      <td>False</td>\n",
       "      <td>True</td>\n",
       "      <td>True</td>\n",
       "      <td>False</td>\n",
       "      <td>True</td>\n",
       "      <td>False</td>\n",
       "      <td>True</td>\n",
       "    </tr>\n",
       "    <tr>\n",
       "      <th>Total day charge</th>\n",
       "      <td>False</td>\n",
       "      <td>False</td>\n",
       "      <td>False</td>\n",
       "      <td>True</td>\n",
       "      <td>False</td>\n",
       "      <td>True</td>\n",
       "      <td>False</td>\n",
       "      <td>True</td>\n",
       "      <td>False</td>\n",
       "      <td>False</td>\n",
       "      <td>True</td>\n",
       "      <td>False</td>\n",
       "      <td>False</td>\n",
       "      <td>False</td>\n",
       "      <td>False</td>\n",
       "      <td>False</td>\n",
       "      <td>True</td>\n",
       "    </tr>\n",
       "    <tr>\n",
       "      <th>Total eve minutes</th>\n",
       "      <td>False</td>\n",
       "      <td>False</td>\n",
       "      <td>True</td>\n",
       "      <td>False</td>\n",
       "      <td>False</td>\n",
       "      <td>False</td>\n",
       "      <td>True</td>\n",
       "      <td>False</td>\n",
       "      <td>True</td>\n",
       "      <td>False</td>\n",
       "      <td>False</td>\n",
       "      <td>False</td>\n",
       "      <td>False</td>\n",
       "      <td>False</td>\n",
       "      <td>False</td>\n",
       "      <td>False</td>\n",
       "      <td>True</td>\n",
       "    </tr>\n",
       "    <tr>\n",
       "      <th>Total eve calls</th>\n",
       "      <td>True</td>\n",
       "      <td>False</td>\n",
       "      <td>False</td>\n",
       "      <td>True</td>\n",
       "      <td>False</td>\n",
       "      <td>True</td>\n",
       "      <td>False</td>\n",
       "      <td>True</td>\n",
       "      <td>False</td>\n",
       "      <td>False</td>\n",
       "      <td>False</td>\n",
       "      <td>False</td>\n",
       "      <td>False</td>\n",
       "      <td>True</td>\n",
       "      <td>False</td>\n",
       "      <td>False</td>\n",
       "      <td>False</td>\n",
       "    </tr>\n",
       "    <tr>\n",
       "      <th>Total eve charge</th>\n",
       "      <td>False</td>\n",
       "      <td>False</td>\n",
       "      <td>True</td>\n",
       "      <td>False</td>\n",
       "      <td>False</td>\n",
       "      <td>False</td>\n",
       "      <td>True</td>\n",
       "      <td>False</td>\n",
       "      <td>True</td>\n",
       "      <td>False</td>\n",
       "      <td>False</td>\n",
       "      <td>False</td>\n",
       "      <td>False</td>\n",
       "      <td>False</td>\n",
       "      <td>False</td>\n",
       "      <td>False</td>\n",
       "      <td>True</td>\n",
       "    </tr>\n",
       "    <tr>\n",
       "      <th>Total night minutes</th>\n",
       "      <td>False</td>\n",
       "      <td>False</td>\n",
       "      <td>False</td>\n",
       "      <td>False</td>\n",
       "      <td>True</td>\n",
       "      <td>False</td>\n",
       "      <td>False</td>\n",
       "      <td>False</td>\n",
       "      <td>False</td>\n",
       "      <td>True</td>\n",
       "      <td>True</td>\n",
       "      <td>True</td>\n",
       "      <td>False</td>\n",
       "      <td>False</td>\n",
       "      <td>False</td>\n",
       "      <td>False</td>\n",
       "      <td>True</td>\n",
       "    </tr>\n",
       "    <tr>\n",
       "      <th>Total night calls</th>\n",
       "      <td>False</td>\n",
       "      <td>True</td>\n",
       "      <td>False</td>\n",
       "      <td>True</td>\n",
       "      <td>False</td>\n",
       "      <td>True</td>\n",
       "      <td>False</td>\n",
       "      <td>False</td>\n",
       "      <td>False</td>\n",
       "      <td>True</td>\n",
       "      <td>True</td>\n",
       "      <td>True</td>\n",
       "      <td>False</td>\n",
       "      <td>False</td>\n",
       "      <td>False</td>\n",
       "      <td>False</td>\n",
       "      <td>False</td>\n",
       "    </tr>\n",
       "    <tr>\n",
       "      <th>Total night charge</th>\n",
       "      <td>False</td>\n",
       "      <td>False</td>\n",
       "      <td>False</td>\n",
       "      <td>False</td>\n",
       "      <td>True</td>\n",
       "      <td>False</td>\n",
       "      <td>False</td>\n",
       "      <td>False</td>\n",
       "      <td>False</td>\n",
       "      <td>True</td>\n",
       "      <td>True</td>\n",
       "      <td>True</td>\n",
       "      <td>False</td>\n",
       "      <td>False</td>\n",
       "      <td>False</td>\n",
       "      <td>False</td>\n",
       "      <td>True</td>\n",
       "    </tr>\n",
       "    <tr>\n",
       "      <th>Total intl minutes</th>\n",
       "      <td>False</td>\n",
       "      <td>False</td>\n",
       "      <td>False</td>\n",
       "      <td>False</td>\n",
       "      <td>True</td>\n",
       "      <td>False</td>\n",
       "      <td>False</td>\n",
       "      <td>False</td>\n",
       "      <td>False</td>\n",
       "      <td>False</td>\n",
       "      <td>False</td>\n",
       "      <td>False</td>\n",
       "      <td>True</td>\n",
       "      <td>True</td>\n",
       "      <td>True</td>\n",
       "      <td>False</td>\n",
       "      <td>True</td>\n",
       "    </tr>\n",
       "    <tr>\n",
       "      <th>Total intl calls</th>\n",
       "      <td>True</td>\n",
       "      <td>False</td>\n",
       "      <td>True</td>\n",
       "      <td>False</td>\n",
       "      <td>False</td>\n",
       "      <td>False</td>\n",
       "      <td>False</td>\n",
       "      <td>True</td>\n",
       "      <td>False</td>\n",
       "      <td>False</td>\n",
       "      <td>False</td>\n",
       "      <td>False</td>\n",
       "      <td>True</td>\n",
       "      <td>True</td>\n",
       "      <td>True</td>\n",
       "      <td>False</td>\n",
       "      <td>False</td>\n",
       "    </tr>\n",
       "    <tr>\n",
       "      <th>Total intl charge</th>\n",
       "      <td>False</td>\n",
       "      <td>False</td>\n",
       "      <td>False</td>\n",
       "      <td>False</td>\n",
       "      <td>True</td>\n",
       "      <td>False</td>\n",
       "      <td>False</td>\n",
       "      <td>False</td>\n",
       "      <td>False</td>\n",
       "      <td>False</td>\n",
       "      <td>False</td>\n",
       "      <td>False</td>\n",
       "      <td>True</td>\n",
       "      <td>True</td>\n",
       "      <td>True</td>\n",
       "      <td>False</td>\n",
       "      <td>True</td>\n",
       "    </tr>\n",
       "    <tr>\n",
       "      <th>Customer service calls</th>\n",
       "      <td>False</td>\n",
       "      <td>True</td>\n",
       "      <td>False</td>\n",
       "      <td>False</td>\n",
       "      <td>False</td>\n",
       "      <td>False</td>\n",
       "      <td>False</td>\n",
       "      <td>False</td>\n",
       "      <td>False</td>\n",
       "      <td>False</td>\n",
       "      <td>False</td>\n",
       "      <td>False</td>\n",
       "      <td>False</td>\n",
       "      <td>False</td>\n",
       "      <td>False</td>\n",
       "      <td>True</td>\n",
       "      <td>True</td>\n",
       "    </tr>\n",
       "    <tr>\n",
       "      <th>Churn</th>\n",
       "      <td>True</td>\n",
       "      <td>False</td>\n",
       "      <td>False</td>\n",
       "      <td>True</td>\n",
       "      <td>True</td>\n",
       "      <td>True</td>\n",
       "      <td>True</td>\n",
       "      <td>False</td>\n",
       "      <td>True</td>\n",
       "      <td>True</td>\n",
       "      <td>False</td>\n",
       "      <td>True</td>\n",
       "      <td>True</td>\n",
       "      <td>False</td>\n",
       "      <td>True</td>\n",
       "      <td>True</td>\n",
       "      <td>True</td>\n",
       "    </tr>\n",
       "  </tbody>\n",
       "</table>\n",
       "</div>"
      ],
      "text/plain": [
       "                        Account length  Area code  Number vmail messages  \\\n",
       "Account length                    True      False                  False   \n",
       "Area code                        False       True                  False   \n",
       "Number vmail messages            False      False                   True   \n",
       "Total day minutes                False      False                  False   \n",
       "Total day calls                   True      False                  False   \n",
       "Total day charge                 False      False                  False   \n",
       "Total eve minutes                False      False                   True   \n",
       "Total eve calls                   True      False                  False   \n",
       "Total eve charge                 False      False                   True   \n",
       "Total night minutes              False      False                  False   \n",
       "Total night calls                False       True                  False   \n",
       "Total night charge               False      False                  False   \n",
       "Total intl minutes               False      False                  False   \n",
       "Total intl calls                  True      False                   True   \n",
       "Total intl charge                False      False                  False   \n",
       "Customer service calls           False       True                  False   \n",
       "Churn                             True      False                  False   \n",
       "\n",
       "                        Total day minutes  Total day calls  Total day charge  \\\n",
       "Account length                      False             True             False   \n",
       "Area code                           False            False             False   \n",
       "Number vmail messages               False            False             False   \n",
       "Total day minutes                    True            False              True   \n",
       "Total day calls                     False             True             False   \n",
       "Total day charge                     True            False              True   \n",
       "Total eve minutes                   False            False             False   \n",
       "Total eve calls                      True            False              True   \n",
       "Total eve charge                    False            False             False   \n",
       "Total night minutes                 False             True             False   \n",
       "Total night calls                    True            False              True   \n",
       "Total night charge                  False             True             False   \n",
       "Total intl minutes                  False             True             False   \n",
       "Total intl calls                    False            False             False   \n",
       "Total intl charge                   False             True             False   \n",
       "Customer service calls              False            False             False   \n",
       "Churn                                True             True              True   \n",
       "\n",
       "                        Total eve minutes  Total eve calls  Total eve charge  \\\n",
       "Account length                      False             True             False   \n",
       "Area code                           False            False             False   \n",
       "Number vmail messages                True            False              True   \n",
       "Total day minutes                   False             True             False   \n",
       "Total day calls                     False            False             False   \n",
       "Total day charge                    False             True             False   \n",
       "Total eve minutes                    True            False              True   \n",
       "Total eve calls                     False             True             False   \n",
       "Total eve charge                     True            False              True   \n",
       "Total night minutes                 False            False             False   \n",
       "Total night calls                   False            False             False   \n",
       "Total night charge                  False            False             False   \n",
       "Total intl minutes                  False            False             False   \n",
       "Total intl calls                    False             True             False   \n",
       "Total intl charge                   False            False             False   \n",
       "Customer service calls              False            False             False   \n",
       "Churn                                True            False              True   \n",
       "\n",
       "                        Total night minutes  Total night calls  \\\n",
       "Account length                        False              False   \n",
       "Area code                             False               True   \n",
       "Number vmail messages                 False              False   \n",
       "Total day minutes                     False               True   \n",
       "Total day calls                        True              False   \n",
       "Total day charge                      False               True   \n",
       "Total eve minutes                     False              False   \n",
       "Total eve calls                       False              False   \n",
       "Total eve charge                      False              False   \n",
       "Total night minutes                    True               True   \n",
       "Total night calls                      True               True   \n",
       "Total night charge                     True               True   \n",
       "Total intl minutes                    False              False   \n",
       "Total intl calls                      False              False   \n",
       "Total intl charge                     False              False   \n",
       "Customer service calls                False              False   \n",
       "Churn                                  True              False   \n",
       "\n",
       "                        Total night charge  Total intl minutes  \\\n",
       "Account length                       False               False   \n",
       "Area code                            False               False   \n",
       "Number vmail messages                False               False   \n",
       "Total day minutes                    False               False   \n",
       "Total day calls                       True                True   \n",
       "Total day charge                     False               False   \n",
       "Total eve minutes                    False               False   \n",
       "Total eve calls                      False               False   \n",
       "Total eve charge                     False               False   \n",
       "Total night minutes                   True               False   \n",
       "Total night calls                     True               False   \n",
       "Total night charge                    True               False   \n",
       "Total intl minutes                   False                True   \n",
       "Total intl calls                     False                True   \n",
       "Total intl charge                    False                True   \n",
       "Customer service calls               False               False   \n",
       "Churn                                 True                True   \n",
       "\n",
       "                        Total intl calls  Total intl charge  \\\n",
       "Account length                      True              False   \n",
       "Area code                          False              False   \n",
       "Number vmail messages               True              False   \n",
       "Total day minutes                  False              False   \n",
       "Total day calls                    False               True   \n",
       "Total day charge                   False              False   \n",
       "Total eve minutes                  False              False   \n",
       "Total eve calls                     True              False   \n",
       "Total eve charge                   False              False   \n",
       "Total night minutes                False              False   \n",
       "Total night calls                  False              False   \n",
       "Total night charge                 False              False   \n",
       "Total intl minutes                  True               True   \n",
       "Total intl calls                    True               True   \n",
       "Total intl charge                   True               True   \n",
       "Customer service calls             False              False   \n",
       "Churn                              False               True   \n",
       "\n",
       "                        Customer service calls  Churn  \n",
       "Account length                           False   True  \n",
       "Area code                                 True  False  \n",
       "Number vmail messages                    False  False  \n",
       "Total day minutes                        False   True  \n",
       "Total day calls                          False   True  \n",
       "Total day charge                         False   True  \n",
       "Total eve minutes                        False   True  \n",
       "Total eve calls                          False  False  \n",
       "Total eve charge                         False   True  \n",
       "Total night minutes                      False   True  \n",
       "Total night calls                        False  False  \n",
       "Total night charge                       False   True  \n",
       "Total intl minutes                       False   True  \n",
       "Total intl calls                         False  False  \n",
       "Total intl charge                        False   True  \n",
       "Customer service calls                    True   True  \n",
       "Churn                                     True   True  "
      ]
     },
     "execution_count": 25,
     "metadata": {},
     "output_type": "execute_result"
    }
   ],
   "source": [
    "df.corr() > 0.01"
   ]
  },
  {
   "cell_type": "markdown",
   "metadata": {},
   "source": [
    "По корреляционной матрице сложно определить, какие именно регрессоры коррелируют, но если присмотреться, то можно заметить, что признаки вида **\"Total <eve/night/intl> <calls/charges/minutes>\"** сильно коррелируют друг с другом. Попробуем отобрать эти и обучить на них модель, при этом добавив полиномы"
   ]
  },
  {
   "cell_type": "code",
   "execution_count": 26,
   "metadata": {},
   "outputs": [],
   "source": [
    "from sklearn.preprocessing import PolynomialFeatures\n",
    "\n",
    "X_train, X_test, y_train, y_test = train_test_split(X[['Total day minutes','Total eve minutes', 'Total intl minutes', 'Customer service calls']], y, random_state=10)\n",
    "\n",
    "scaler = StandardScaler()\n",
    "X_train = scaler.fit_transform(X_train)\n",
    "X_test = scaler.transform(X_test)\n",
    "\n",
    "poly = PolynomialFeatures(3)\n",
    "X_train = poly.fit_transform(X_train)\n",
    "X_test = poly.transform(X_test)"
   ]
  },
  {
   "cell_type": "code",
   "execution_count": 27,
   "metadata": {},
   "outputs": [
    {
     "name": "stdout",
     "output_type": "stream",
     "text": [
      "{'C': 2.6}\n",
      "{'C': 4.6}\n"
     ]
    }
   ],
   "source": [
    "params = {'C': np.arange(0.1, 7, 0.5)}\n",
    "lr = LogisticRegression()\n",
    "svm = SVC(kernel='linear')\n",
    "\n",
    "cv_lr = GridSearchCV(lr,\n",
    "                  params,\n",
    "                  scoring=f1,    \n",
    "                  cv=5\n",
    "                 )\n",
    "cv_lr.fit(X_train, y_train)\n",
    "\n",
    "cv_svm = GridSearchCV(svm,\n",
    "                  params,\n",
    "                  scoring=f1,  \n",
    "                  cv=5\n",
    "                 )\n",
    "cv_svm.fit(X_train, y_train)\n",
    "\n",
    "C_best_lr = cv_lr.best_params_['C']\n",
    "print(cv_lr.best_params_)\n",
    "C_best_svm = cv_svm.best_params_['C']\n",
    "print(cv_svm.best_params_)"
   ]
  },
  {
   "cell_type": "code",
   "execution_count": 28,
   "metadata": {},
   "outputs": [
    {
     "name": "stdout",
     "output_type": "stream",
     "text": [
      "0.8920863309352518\n"
     ]
    }
   ],
   "source": [
    "lr_best = LogisticRegression(C=C_best_lr, penalty = 'l2') \n",
    "lr_best.fit(X_train, y_train)\n",
    "y_pred_lr = lr_best.predict(X_test)\n",
    "print(accuracy_score(y_test, y_pred_lr))"
   ]
  },
  {
   "cell_type": "code",
   "execution_count": 29,
   "metadata": {},
   "outputs": [
    {
     "name": "stdout",
     "output_type": "stream",
     "text": [
      "F1-score логистической регрессии: 0.4705882352941177\n",
      "Roc-auc логистической регрессии: 0.8567928558560878\n"
     ]
    }
   ],
   "source": [
    "tpr, fpr, _ = roc_curve(y_train, lr_best.predict_proba(X_train)[:, 0])\n",
    "\n",
    "print('F1-score логистической регрессии:', f1_score(y_test, y_pred_lr))\n",
    "print('Roc-auc логистической регрессии:', auc(fpr, tpr))"
   ]
  },
  {
   "cell_type": "code",
   "execution_count": 30,
   "metadata": {},
   "outputs": [
    {
     "name": "stdout",
     "output_type": "stream",
     "text": [
      "0.8920863309352518\n"
     ]
    }
   ],
   "source": [
    "svm_best = SVC(kernel='linear', C=C_best_svm, probability=True) \n",
    "svm_best.fit(X_train, y_train)\n",
    "y_pred_svm = svm_best.predict(X_test)\n",
    "print(accuracy_score(y_test, y_pred_svm))"
   ]
  },
  {
   "cell_type": "code",
   "execution_count": 31,
   "metadata": {},
   "outputs": [
    {
     "name": "stdout",
     "output_type": "stream",
     "text": [
      "F1-score SVM: 0.4642857142857143\n",
      "Roc-auc SVM: 0.8471343644645752\n"
     ]
    }
   ],
   "source": [
    "tpr, fpr, _ = roc_curve(y_train, svm_best.predict_proba(X_train)[:, 0])\n",
    "\n",
    "print('F1-score SVM:', f1_score(y_test, y_pred_svm))\n",
    "print('Roc-auc SVM:', auc(fpr, tpr))"
   ]
  },
  {
   "cell_type": "markdown",
   "metadata": {},
   "source": [
    "**Итог**: качество логистической регрессии немного, но обогнало предыдущие варианты моделей."
   ]
  },
  {
   "cell_type": "markdown",
   "metadata": {},
   "source": [
    "### Выводы:\n",
    "\n",
    "В данной задаче присутствует проблема дисбаланса классов.\n",
    "\n",
    "**A, B**: алгоритмы обучились плохо, качество обоих алгоритмов сопостовимое и отличается только в зависимости от изначального разбиения данных. При этом нельзя сказать, что алгоритмы показали высокий результат, несмотря на то, что доля правильных ответов составляет 85-86%, поскольку константный алгоритм вида:\n",
    "$$\n",
    "a(x) = 0\n",
    "$$\n",
    "Выдаёт долю правильных ответов 85.5%, что совсем немного ниже, чем логистическая регрессия и метод опорных векторов. Если же посмотреть на более релевантную для данной задачи метрику, а именно F1-score, то можно заметить, что логистическая регрессия плохо отличает положительный и отрицательный класс (F1-score = 0.17), тогда как метод опорных векторов совсем не отличает и при линейном ядре выдаёт константный прогноз (F1-score = 0). Таким образом, можно говорить о недообучении алгоритмов.\n",
    "\n",
    "**C, D**: доля правильных ответов алгоритма выросло на 4-5%, что неплохо для данной задачи с дисбалансом классов, поскольку эта разница позволяет отличать наши модели от приведённой выше константной модели. При этом значительно (в 2 раза) вырос F1-score (для логистической регрессии F1-score = 0.461, для метода опорных векторов F1-score = 0.463), то есть метрики precision, recall, что означает, что наша модель учитывает дисбаланс классов, обозначенный в пунктах **А, В**.\n",
    "\n",
    "Что касается модификации, были выбраны признаки, корреляция с таргетом у которых хотя бы 0.07. При этом были добавлены полиномы 3-й степени. Эмпирическим путём было найдено, что взятие полиномов выше чем 3-й степени не повышает качество, а ниже 3-й степени - снижает его.\n",
    "\n",
    "Если же провести отбор признаков и убрать коррелирующие друг с другом, можно получить более высокий F1-score (F1-score = 0.47 для логистической регрессии), то есть в задаче есть простор для дополнительных исследований\n",
    "\n",
    "**E**: Опишем результаты лучшей модели:\n",
    "\n",
    "a) Логистическая регрессия при отборе признаков\n",
    "\n",
    "Значения метрик \n",
    "\n",
    "**accuracy** = 0.892\n",
    "\n",
    "**F1-score** = 0.470\n",
    "\n",
    "**ROC-AUC** = 0.856\n",
    "\n",
    "b) Удалил большинство коррелируемых между собой признаков и оставил те признаки, которые более всего коррелируют с таргетом:\n",
    "\n",
    "**[Total day minutes, Total eve minutes, Total intl minutes, Customer service calls]**\n",
    "\n",
    "c) Удалось преодолеть недообучение алгоритма, которое было обнаружено в пунктах **A, B**. При этом удалось избежать переобучения алгоритма, т.к. было достигнуто высокое качество на тестовой выборке. "
   ]
  },
  {
   "cell_type": "markdown",
   "metadata": {},
   "source": [
    "## Часть 2. Оценка качества моделей классификации (5 баллов).\n",
    "\n",
    "* Колонки 0, 1, ..., 13 - анонимизированные характеристики клиентов (некоторые числовые, некоторые категориальные). \n",
    "* Target - целевая переменная: 1 - выдать кредит, 0 - не выдать кредит.\n",
    "\n",
    "На этих данных было обучено три различных алгоритма классификации и получены предсказания:\n",
    "* pred1_probs - предсказанные вероятности положительного класса, полученные алгоритмом 1.\n",
    "* pred1_classes - предсказанные алгоритмом 1 классы\n",
    "* pred2_probs, pred2_classes, pred3_probs, pred3_classes - аналогичные величины для алгоритмов 2 и 3\n",
    "\n",
    "Наша задача - оценить качество каждого из трех алгоритмов и разобраться, какой из алгоритмов лучше всего работает в данной задаче."
   ]
  },
  {
   "cell_type": "code",
   "execution_count": 32,
   "metadata": {},
   "outputs": [
    {
     "data": {
      "text/html": [
       "<div>\n",
       "<style scoped>\n",
       "    .dataframe tbody tr th:only-of-type {\n",
       "        vertical-align: middle;\n",
       "    }\n",
       "\n",
       "    .dataframe tbody tr th {\n",
       "        vertical-align: top;\n",
       "    }\n",
       "\n",
       "    .dataframe thead th {\n",
       "        text-align: right;\n",
       "    }\n",
       "</style>\n",
       "<table border=\"1\" class=\"dataframe\">\n",
       "  <thead>\n",
       "    <tr style=\"text-align: right;\">\n",
       "      <th></th>\n",
       "      <th>0</th>\n",
       "      <th>1</th>\n",
       "      <th>2</th>\n",
       "      <th>3</th>\n",
       "      <th>4</th>\n",
       "      <th>5</th>\n",
       "      <th>6</th>\n",
       "      <th>7</th>\n",
       "      <th>8</th>\n",
       "      <th>9</th>\n",
       "      <th>...</th>\n",
       "      <th>11</th>\n",
       "      <th>12</th>\n",
       "      <th>13</th>\n",
       "      <th>target</th>\n",
       "      <th>pred1_probs</th>\n",
       "      <th>pred1_classes</th>\n",
       "      <th>pred2_probs</th>\n",
       "      <th>pred2_classes</th>\n",
       "      <th>pred3_probs</th>\n",
       "      <th>pred3_classes</th>\n",
       "    </tr>\n",
       "  </thead>\n",
       "  <tbody>\n",
       "    <tr>\n",
       "      <th>0</th>\n",
       "      <td>1</td>\n",
       "      <td>22.08</td>\n",
       "      <td>11.46</td>\n",
       "      <td>2</td>\n",
       "      <td>4</td>\n",
       "      <td>4</td>\n",
       "      <td>1.585</td>\n",
       "      <td>0</td>\n",
       "      <td>0</td>\n",
       "      <td>0</td>\n",
       "      <td>...</td>\n",
       "      <td>2</td>\n",
       "      <td>100</td>\n",
       "      <td>1213</td>\n",
       "      <td>0</td>\n",
       "      <td>0.506772</td>\n",
       "      <td>1</td>\n",
       "      <td>0.610853</td>\n",
       "      <td>1</td>\n",
       "      <td>0.375494</td>\n",
       "      <td>0</td>\n",
       "    </tr>\n",
       "    <tr>\n",
       "      <th>1</th>\n",
       "      <td>0</td>\n",
       "      <td>22.67</td>\n",
       "      <td>7.00</td>\n",
       "      <td>2</td>\n",
       "      <td>8</td>\n",
       "      <td>4</td>\n",
       "      <td>0.165</td>\n",
       "      <td>0</td>\n",
       "      <td>0</td>\n",
       "      <td>0</td>\n",
       "      <td>...</td>\n",
       "      <td>2</td>\n",
       "      <td>160</td>\n",
       "      <td>1</td>\n",
       "      <td>0</td>\n",
       "      <td>0.358519</td>\n",
       "      <td>0</td>\n",
       "      <td>0.185941</td>\n",
       "      <td>0</td>\n",
       "      <td>0.200975</td>\n",
       "      <td>0</td>\n",
       "    </tr>\n",
       "    <tr>\n",
       "      <th>2</th>\n",
       "      <td>0</td>\n",
       "      <td>29.58</td>\n",
       "      <td>1.75</td>\n",
       "      <td>1</td>\n",
       "      <td>4</td>\n",
       "      <td>4</td>\n",
       "      <td>1.250</td>\n",
       "      <td>0</td>\n",
       "      <td>0</td>\n",
       "      <td>0</td>\n",
       "      <td>...</td>\n",
       "      <td>2</td>\n",
       "      <td>280</td>\n",
       "      <td>1</td>\n",
       "      <td>0</td>\n",
       "      <td>0.358753</td>\n",
       "      <td>0</td>\n",
       "      <td>0.523009</td>\n",
       "      <td>1</td>\n",
       "      <td>0.160465</td>\n",
       "      <td>0</td>\n",
       "    </tr>\n",
       "    <tr>\n",
       "      <th>3</th>\n",
       "      <td>0</td>\n",
       "      <td>21.67</td>\n",
       "      <td>11.50</td>\n",
       "      <td>1</td>\n",
       "      <td>5</td>\n",
       "      <td>3</td>\n",
       "      <td>0.000</td>\n",
       "      <td>1</td>\n",
       "      <td>1</td>\n",
       "      <td>11</td>\n",
       "      <td>...</td>\n",
       "      <td>2</td>\n",
       "      <td>0</td>\n",
       "      <td>1</td>\n",
       "      <td>1</td>\n",
       "      <td>0.408729</td>\n",
       "      <td>0</td>\n",
       "      <td>0.185941</td>\n",
       "      <td>0</td>\n",
       "      <td>0.357771</td>\n",
       "      <td>0</td>\n",
       "    </tr>\n",
       "    <tr>\n",
       "      <th>4</th>\n",
       "      <td>1</td>\n",
       "      <td>20.17</td>\n",
       "      <td>8.17</td>\n",
       "      <td>2</td>\n",
       "      <td>6</td>\n",
       "      <td>4</td>\n",
       "      <td>1.960</td>\n",
       "      <td>1</td>\n",
       "      <td>1</td>\n",
       "      <td>14</td>\n",
       "      <td>...</td>\n",
       "      <td>2</td>\n",
       "      <td>60</td>\n",
       "      <td>159</td>\n",
       "      <td>1</td>\n",
       "      <td>0.480904</td>\n",
       "      <td>0</td>\n",
       "      <td>0.526646</td>\n",
       "      <td>1</td>\n",
       "      <td>0.260169</td>\n",
       "      <td>0</td>\n",
       "    </tr>\n",
       "  </tbody>\n",
       "</table>\n",
       "<p>5 rows × 21 columns</p>\n",
       "</div>"
      ],
      "text/plain": [
       "   0      1      2  3  4  5      6  7  8   9  ...  11   12    13  target  \\\n",
       "0  1  22.08  11.46  2  4  4  1.585  0  0   0  ...   2  100  1213       0   \n",
       "1  0  22.67   7.00  2  8  4  0.165  0  0   0  ...   2  160     1       0   \n",
       "2  0  29.58   1.75  1  4  4  1.250  0  0   0  ...   2  280     1       0   \n",
       "3  0  21.67  11.50  1  5  3  0.000  1  1  11  ...   2    0     1       1   \n",
       "4  1  20.17   8.17  2  6  4  1.960  1  1  14  ...   2   60   159       1   \n",
       "\n",
       "   pred1_probs  pred1_classes  pred2_probs  pred2_classes  pred3_probs  \\\n",
       "0     0.506772              1     0.610853              1     0.375494   \n",
       "1     0.358519              0     0.185941              0     0.200975   \n",
       "2     0.358753              0     0.523009              1     0.160465   \n",
       "3     0.408729              0     0.185941              0     0.357771   \n",
       "4     0.480904              0     0.526646              1     0.260169   \n",
       "\n",
       "   pred3_classes  \n",
       "0              0  \n",
       "1              0  \n",
       "2              0  \n",
       "3              0  \n",
       "4              0  \n",
       "\n",
       "[5 rows x 21 columns]"
      ]
     },
     "execution_count": 32,
     "metadata": {},
     "output_type": "execute_result"
    }
   ],
   "source": [
    "df = pd.read_csv(\"credit_scoring_example1.csv\")\n",
    "df.head()"
   ]
  },
  {
   "cell_type": "code",
   "execution_count": 33,
   "metadata": {},
   "outputs": [
    {
     "data": {
      "text/plain": [
       "(689, 21)"
      ]
     },
     "execution_count": 33,
     "metadata": {},
     "output_type": "execute_result"
    }
   ],
   "source": [
    "df.shape"
   ]
  },
  {
   "cell_type": "markdown",
   "metadata": {},
   "source": [
    "**Задание 1.** Проверьте target на сбалансированность по классам, сделайте вывод."
   ]
  },
  {
   "cell_type": "code",
   "execution_count": 34,
   "metadata": {},
   "outputs": [
    {
     "data": {
      "text/plain": [
       "0    0.554427\n",
       "1    0.445573\n",
       "Name: target, dtype: float64"
      ]
     },
     "execution_count": 34,
     "metadata": {},
     "output_type": "execute_result"
    }
   ],
   "source": [
    "# Выведем распределение по target для проверки на сбалансированность\n",
    "\n",
    "df.target.value_counts() / df.shape[0]"
   ]
  },
  {
   "cell_type": "markdown",
   "metadata": {},
   "source": [
    "**Промежуточный вывод:** Как видно, распределение почти равное, то есть доля класса 1 практически равна доле класса 0, поэтому можем говорить о сбалансированности по классам."
   ]
  },
  {
   "cell_type": "markdown",
   "metadata": {},
   "source": [
    "**Задание 2.** Вычислите accuracy - долю правильных ответов каждого из алгоритмов. Какой алгоритм имеет наибольшую accuracy?"
   ]
  },
  {
   "cell_type": "code",
   "execution_count": 38,
   "metadata": {},
   "outputs": [
    {
     "name": "stdout",
     "output_type": "stream",
     "text": [
      "Доля правильных ответов 1-го алгоритма: 0.6618287373004355\n",
      "Доля правильных ответов 2-го алгоритма: 0.6719883889695211\n",
      "Доля правильных ответов 3-го алгоритма: 0.6400580551523948\n"
     ]
    }
   ],
   "source": [
    "from sklearn.metrics import accuracy_score, precision_score, recall_score\n",
    "\n",
    "print('Доля правильных ответов 1-го алгоритма:', accuracy_score(df.target, df.pred1_classes))\n",
    "print('Доля правильных ответов 2-го алгоритма:', accuracy_score(df.target, df.pred2_classes))\n",
    "print('Доля правильных ответов 3-го алгоритма:', accuracy_score(df.target, df.pred3_classes))"
   ]
  },
  {
   "cell_type": "markdown",
   "metadata": {},
   "source": [
    "**Промежуточный вывод:** Второй алгоритм имеет наивысшую долю правильных ответов."
   ]
  },
  {
   "cell_type": "markdown",
   "metadata": {},
   "source": [
    "**Задание 3.** Теперь вычислите точность и полноту каждого из алгоритмов."
   ]
  },
  {
   "cell_type": "code",
   "execution_count": 39,
   "metadata": {},
   "outputs": [],
   "source": [
    "def pr_recall_calculation(y_true, y_pred, number):\n",
    "    \n",
    "    print(f'Precision для модели {number} составляет {precision_score(y_true, y_pred)}')\n",
    "    print(f'Recall для модели {number} составляет {recall_score(y_true, y_pred)}\\n')"
   ]
  },
  {
   "cell_type": "code",
   "execution_count": 40,
   "metadata": {},
   "outputs": [
    {
     "name": "stdout",
     "output_type": "stream",
     "text": [
      "Precision для модели 1 составляет 0.6907216494845361\n",
      "Recall для модели 1 составляет 0.4364820846905538\n",
      "\n",
      "Precision для модели 2 составляет 0.6103542234332425\n",
      "Recall для модели 2 составляет 0.7296416938110749\n",
      "\n",
      "Precision для модели 3 составляет 0.6903225806451613\n",
      "Recall для модели 3 составляет 0.3485342019543974\n",
      "\n"
     ]
    }
   ],
   "source": [
    "pr_recall_calculation(df.target, df.pred1_classes, 1)\n",
    "pr_recall_calculation(df.target, df.pred2_classes, 2)\n",
    "pr_recall_calculation(df.target, df.pred3_classes, 3)"
   ]
  },
  {
   "cell_type": "markdown",
   "metadata": {},
   "source": [
    "Самым полезным инструментом в практических задачах является ***матрица ошибок***. Смотря на неё и регулируя порог, определяющий классы, мы можем достичь оптимального решения нашей задачи.\n",
    "\n",
    "**Задание 4.** Используя функцию plot_confusion_matrix для визуализации матрицы ошибок, нарисуйте матрицы ошибок всех трех алгоритмов."
   ]
  },
  {
   "cell_type": "code",
   "execution_count": 41,
   "metadata": {},
   "outputs": [],
   "source": [
    "import itertools\n",
    "from sklearn.metrics import confusion_matrix\n",
    "\n",
    "def plot_confusion_matrix(cm, classes,\n",
    "                          normalize=False,\n",
    "                          title='Confusion matrix',\n",
    "                          cmap=plt.cm.Blues):\n",
    " \n",
    "    plt.imshow(cm, interpolation='nearest', cmap=cmap)\n",
    "    plt.title(title)\n",
    "    plt.colorbar()\n",
    "    tick_marks = np.arange(len(classes))\n",
    "    plt.xticks(tick_marks, classes, rotation=45)\n",
    "    plt.yticks(tick_marks, classes)\n",
    " \n",
    "    fmt = '.2f' if normalize else 'd'\n",
    "    thresh = cm.max() / 2.\n",
    "    for i, j in itertools.product(range(cm.shape[0]), range(cm.shape[1])):\n",
    "        plt.text(j, i, format(cm[i, j], fmt),\n",
    "                 horizontalalignment=\"center\",\n",
    "                 color=\"white\" if cm[i, j] > thresh else \"black\")\n",
    " \n",
    "    plt.tight_layout()\n",
    "    plt.ylabel('True label')\n",
    "    plt.xlabel('Predicted label')"
   ]
  },
  {
   "cell_type": "code",
   "execution_count": 42,
   "metadata": {},
   "outputs": [
    {
     "data": {
      "image/png": "[encoded data removed]",
      "text/plain": [
       "<Figure size 432x288 with 2 Axes>"
      ]
     },
     "metadata": {
      "needs_background": "light"
     },
     "output_type": "display_data"
    }
   ],
   "source": [
    "plot_confusion_matrix(confusion_matrix(df.target, df.pred1_classes), ['Не выдавать кредит (0)', 'Выдать кредит (1)'])"
   ]
  },
  {
   "cell_type": "code",
   "execution_count": 43,
   "metadata": {},
   "outputs": [
    {
     "data": {
      "image/png": "[encoded data removed]",
      "text/plain": [
       "<Figure size 432x288 with 2 Axes>"
      ]
     },
     "metadata": {
      "needs_background": "light"
     },
     "output_type": "display_data"
    }
   ],
   "source": [
    "plot_confusion_matrix(confusion_matrix(df.target, df.pred2_classes), ['Не выдавать кредит (0)', 'Выдать кредит (1)'])"
   ]
  },
  {
   "cell_type": "code",
   "execution_count": 44,
   "metadata": {},
   "outputs": [
    {
     "data": {
      "image/png": "[encoded data removed]",
      "text/plain": [
       "<Figure size 432x288 with 2 Axes>"
      ]
     },
     "metadata": {
      "needs_background": "light"
     },
     "output_type": "display_data"
    }
   ],
   "source": [
    "plot_confusion_matrix(confusion_matrix(df.target, df.pred3_classes), ['Не выдавать кредит (0)', 'Выдать кредит (1)'])"
   ]
  },
  {
   "cell_type": "markdown",
   "metadata": {},
   "source": [
    "Давайте определимся с целями нашего предсказания:\n",
    "    \n",
    "* **Вариант 1**: хотим выдать кредит максимальному числу людей среди тех, кто мог бы его вернуть. При этом не хотим много ошибаться (общее число ошибок не более 35%).\n",
    "  \n",
    "1) Мы не хотим, чтобы алгоритм много ошибался: accuracy $\\geq$ 0.65.\n",
    "\n",
    "2) Кроме того полнота должна быть как можно больше (число в левом нижнем квадрате матрицы ошибок минимально).\n",
    "\n",
    "**Задание 5.** Для каждого алгоритма найдите такой порог принятия решения, чтобы выполнялись перечисленные выше условия. Какой максимальной полноты можно добиться у каждой из моделей при условии, что accuracy $\\geq$ 0.65?\n",
    "\n",
    "**Комментарий:** порог можно искать в цикле с небольшим шагом."
   ]
  },
  {
   "cell_type": "code",
   "execution_count": 45,
   "metadata": {},
   "outputs": [],
   "source": [
    "def Variant_1(y_true, pred_probs):\n",
    "    \n",
    "    recall = []\n",
    "    rapids = []\n",
    "    \n",
    "    for t in np.arange(0, 1, 0.01):\n",
    "        \n",
    "        y_pred = np.zeros(y_true.shape[0])\n",
    "        y_pred[pred_probs >= t] = 1\n",
    " \n",
    "        if accuracy_score(y_true, y_pred) >= 0.64: \n",
    "            \n",
    "            rapids.append(t)\n",
    "            recall.append(recall_score(y_true, y_pred))\n",
    "    \n",
    "    return np.max(recall), rapids[np.argmax(recall)] "
   ]
  },
  {
   "cell_type": "code",
   "execution_count": 46,
   "metadata": {},
   "outputs": [
    {
     "name": "stdout",
     "output_type": "stream",
     "text": [
      "Наибольшая полнота алгоритма 1, которой можно добиться при условии accuracy > 0.65 - 0.8208469055374593 при пороге 0.34\n"
     ]
    }
   ],
   "source": [
    "algorithm_11 = Variant_1(df.target, df.pred1_probs)\n",
    "print(f'Наибольшая полнота алгоритма 1, которой можно добиться при условии accuracy > 0.65 - {algorithm_11[0]} при пороге {algorithm_11[1]}')"
   ]
  },
  {
   "cell_type": "code",
   "execution_count": 47,
   "metadata": {},
   "outputs": [
    {
     "name": "stdout",
     "output_type": "stream",
     "text": [
      "Наибольшая полнота алгоритма 2, которой можно добиться при условии accuracy > 0.65 - 0.8371335504885994 при пороге 0.27\n"
     ]
    }
   ],
   "source": [
    "algorithm_12 = Variant_1(df.target, df.pred2_probs)\n",
    "print(f'Наибольшая полнота алгоритма 2, которой можно добиться при условии accuracy > 0.65 - {algorithm_12[0]} при пороге {algorithm_12[1]}')"
   ]
  },
  {
   "cell_type": "code",
   "execution_count": 48,
   "metadata": {},
   "outputs": [
    {
     "name": "stdout",
     "output_type": "stream",
     "text": [
      "Наибольшая полнота алгоритма 3, которой можно добиться при условии accuracy > 0.65 - 0.6416938110749185 при пороге 0.23\n"
     ]
    }
   ],
   "source": [
    "algorithm_13 = Variant_1(df.target, df.pred3_probs)\n",
    "print(f'Наибольшая полнота алгоритма 3, которой можно добиться при условии accuracy > 0.65 - {algorithm_13[0]} при пороге {algorithm_13[1]}')"
   ]
  },
  {
   "cell_type": "markdown",
   "metadata": {},
   "source": [
    "**Задание 6.** Визуализируйте матрицу ошибок для каждого из трех алгоритмов с подобранным порогом."
   ]
  },
  {
   "cell_type": "code",
   "execution_count": 49,
   "metadata": {},
   "outputs": [],
   "source": [
    "def Variant_1_visualize(y_true, pred_probs, t):\n",
    "    \n",
    "    y_pred = np.zeros(y_true.shape[0])\n",
    "    y_pred[pred_probs > t] = 1\n",
    "    \n",
    "    plot_confusion_matrix(confusion_matrix(y_true, y_pred), ['Не выдавать кредит (0)', 'Выдать кредит (1)'])"
   ]
  },
  {
   "cell_type": "code",
   "execution_count": 50,
   "metadata": {},
   "outputs": [
    {
     "data": {
      "image/png": "[encoded data removed]",
      "text/plain": [
       "<Figure size 432x288 with 2 Axes>"
      ]
     },
     "metadata": {
      "needs_background": "light"
     },
     "output_type": "display_data"
    }
   ],
   "source": [
    "# 1 алгоритм\n",
    "Variant_1_visualize(df.target, df.pred1_probs, algorithm_11[1])"
   ]
  },
  {
   "cell_type": "code",
   "execution_count": 51,
   "metadata": {},
   "outputs": [
    {
     "data": {
      "image/png": "[encoded data removed]",
      "text/plain": [
       "<Figure size 432x288 with 2 Axes>"
      ]
     },
     "metadata": {
      "needs_background": "light"
     },
     "output_type": "display_data"
    }
   ],
   "source": [
    "# 2 алгоритм\n",
    "Variant_1_visualize(df.target, df.pred2_probs, algorithm_12[1])"
   ]
  },
  {
   "cell_type": "code",
   "execution_count": 52,
   "metadata": {},
   "outputs": [
    {
     "data": {
      "image/png": "[encoded data removed]",
      "text/plain": [
       "<Figure size 432x288 with 2 Axes>"
      ]
     },
     "metadata": {
      "needs_background": "light"
     },
     "output_type": "display_data"
    }
   ],
   "source": [
    "# 3 алгоритм\n",
    "Variant_1_visualize(df.target, df.pred3_probs, algorithm_13[1])"
   ]
  },
  {
   "cell_type": "markdown",
   "metadata": {},
   "source": [
    "**Выводы:** с поставленной задачей лучше всего справилась вторая модель."
   ]
  },
  {
   "cell_type": "markdown",
   "metadata": {},
   "source": [
    "Наша цель может звучать и по-другому:\n",
    "    \n",
    "* **Вариант 2**: среди тех, кому модель выдает кредит, должно быть меньше всего ошибок (мало людей, кто его на самом деле не вернет - на них будем терять деньги). \n",
    "    При этом не хотим много ошибаться (общее число ошибок не более 35%).\n",
    "  \n",
    "1) Мы не хотим, чтобы алгоритм много ошибался: accuracy $\\geq$ 0.65.\n",
    "\n",
    "2) Кроме того точность должна быть как можно больше (число в правом верхнем квадрате матрицы ошибок минимально).\n",
    "\n",
    "**Задание 7.** Для каждого алгоритма найдите порог принятия решения, чтобы выполнялись перечисленные выше условия. Какой максимальной точности можно добиться у каждой из моделей при условии, что accuracy $\\geq$ 0.65? "
   ]
  },
  {
   "cell_type": "code",
   "execution_count": 53,
   "metadata": {},
   "outputs": [],
   "source": [
    "def Variant_2(y_true, pred_probs):\n",
    "    \n",
    "    precision = []\n",
    "    rapids = []\n",
    "    \n",
    "    for t in np.arange(0, 1, 0.01):\n",
    "        \n",
    "        y_pred = np.zeros(y_true.shape[0])\n",
    "        y_pred[pred_probs >= t] = 1\n",
    "        \n",
    "        if accuracy_score(y_true, y_pred) >= 0.64: \n",
    "            \n",
    "            rapids.append(t)\n",
    "            precision.append(precision_score(y_true, y_pred))\n",
    "    \n",
    "    return np.max(precision), rapids[np.argmax(precision)]   "
   ]
  },
  {
   "cell_type": "code",
   "execution_count": 54,
   "metadata": {},
   "outputs": [
    {
     "name": "stdout",
     "output_type": "stream",
     "text": [
      "Наибольшая точность алгоритма 1, которой можно добиться при условии accuracy > 0.65 - 0.7480916030534351 при пороге 0.5700000000000001\n"
     ]
    }
   ],
   "source": [
    "algorithm_21 = Variant_2(df.target, df.pred1_probs)\n",
    "print(f'Наибольшая точность алгоритма 1, которой можно добиться при условии accuracy > 0.65 - {algorithm_21[0]} при пороге {algorithm_21[1]}')"
   ]
  },
  {
   "cell_type": "code",
   "execution_count": 55,
   "metadata": {},
   "outputs": [
    {
     "name": "stdout",
     "output_type": "stream",
     "text": [
      "Наибольшая точность алгоритма 2, которой можно добиться при условии accuracy > 0.65 - 0.8367346938775511 при пороге 0.73\n"
     ]
    }
   ],
   "source": [
    "algorithm_22 = Variant_2(df.target, df.pred2_probs)\n",
    "print(f'Наибольшая точность алгоритма 2, которой можно добиться при условии accuracy > 0.65 - {algorithm_22[0]} при пороге {algorithm_22[1]}')"
   ]
  },
  {
   "cell_type": "code",
   "execution_count": 56,
   "metadata": {},
   "outputs": [
    {
     "name": "stdout",
     "output_type": "stream",
     "text": [
      "Наибольшая точность алгоритма 3, которой можно добиться при условии accuracy > 0.65 - 0.7142857142857143 при пороге 0.56\n"
     ]
    }
   ],
   "source": [
    "algorithm_23 = Variant_2(df.target, df.pred3_probs)\n",
    "print(f'Наибольшая точность алгоритма 3, которой можно добиться при условии accuracy > 0.65 - {algorithm_23[0]} при пороге {algorithm_23[1]}')"
   ]
  },
  {
   "cell_type": "markdown",
   "metadata": {},
   "source": [
    "**Задание 8.** Нарисуйте матрицы ошибок для каждого из алгоритмов с найденными значениями порога. Какая модель лучше всех справилась с этой задачей?"
   ]
  },
  {
   "cell_type": "code",
   "execution_count": 57,
   "metadata": {},
   "outputs": [],
   "source": [
    "def Variant_2_visualize(y_true, pred_probs, t):\n",
    "    \n",
    "    y_pred = np.zeros(y_true.shape[0])\n",
    "    y_pred[pred_probs > t] = 1\n",
    "    \n",
    "    plot_confusion_matrix(confusion_matrix(y_true, y_pred), ['Не выдавать кредит (0)', 'Выдать кредит (1)'])"
   ]
  },
  {
   "cell_type": "code",
   "execution_count": 58,
   "metadata": {},
   "outputs": [
    {
     "data": {
      "image/png": "[encoded data removed]",
      "text/plain": [
       "<Figure size 432x288 with 2 Axes>"
      ]
     },
     "metadata": {
      "needs_background": "light"
     },
     "output_type": "display_data"
    }
   ],
   "source": [
    "# 1 алгоритм\n",
    "Variant_2_visualize(df.target, df.pred1_probs, algorithm_21[1])"
   ]
  },
  {
   "cell_type": "code",
   "execution_count": 59,
   "metadata": {},
   "outputs": [
    {
     "data": {
      "image/png": "[encoded data removed]",
      "text/plain": [
       "<Figure size 432x288 with 2 Axes>"
      ]
     },
     "metadata": {
      "needs_background": "light"
     },
     "output_type": "display_data"
    }
   ],
   "source": [
    "# 2 алгоритм\n",
    "Variant_2_visualize(df.target, df.pred2_probs, algorithm_22[1])"
   ]
  },
  {
   "cell_type": "code",
   "execution_count": 60,
   "metadata": {},
   "outputs": [
    {
     "data": {
      "image/png": "[encoded data removed]",
      "text/plain": [
       "<Figure size 432x288 with 2 Axes>"
      ]
     },
     "metadata": {
      "needs_background": "light"
     },
     "output_type": "display_data"
    }
   ],
   "source": [
    "# 3 алгоритм\n",
    "Variant_2_visualize(df.target, df.pred3_probs, algorithm_23[1])"
   ]
  },
  {
   "cell_type": "markdown",
   "metadata": {},
   "source": [
    "**Выводы:** с поставленной задачей лучше всего справилась вторая модель."
   ]
  },
  {
   "cell_type": "markdown",
   "metadata": {},
   "source": [
    "Также (**Вариант 3**) можно потребовать, чтобы и точность, и полнота были высокими, то есть обе ошибки в матрице ошибок были маленькие. Как вариант - можно максимизировать F1-score (среднее гармоническое между точностью и полнотой).\n",
    "\n",
    "**Задание 9.** Найдите пороги для достижения максимального F1-score для каждой из трех моделей и нарисуйте матрицы ошибок. Какая модель решает поставленную задачу лучше остальных?"
   ]
  },
  {
   "cell_type": "code",
   "execution_count": 61,
   "metadata": {},
   "outputs": [],
   "source": [
    "def Variant_3(y_true, pred_probs):\n",
    "    \n",
    "    f1 = []\n",
    "    rapids = []\n",
    "    \n",
    "    for t in np.arange(0, 1, 0.01):\n",
    "        \n",
    "        y_pred = np.zeros(y_true.shape[0])\n",
    "        y_pred[pred_probs >= t] = 1\n",
    "        \n",
    "        if accuracy_score(y_true, y_pred) >= 0.64: \n",
    "            \n",
    "            rapids.append(t)\n",
    "            f1.append(f1_score(y_true, y_pred))\n",
    "    \n",
    "    return np.max(f1), rapids[np.argmax(f1)]   "
   ]
  },
  {
   "cell_type": "code",
   "execution_count": 62,
   "metadata": {},
   "outputs": [
    {
     "name": "stdout",
     "output_type": "stream",
     "text": [
      "Наибольший f1-score алгоритма 1, которой можно добиться при условии accuracy > 0.65 - 0.672 при пороге 0.34\n"
     ]
    }
   ],
   "source": [
    "algorithm_31 = Variant_3(df.target, df.pred1_probs)\n",
    "print(f'Наибольший f1-score алгоритма 1, которой можно добиться при условии accuracy > 0.65 - {algorithm_31[0]} при пороге {algorithm_31[1]}')"
   ]
  },
  {
   "cell_type": "code",
   "execution_count": 63,
   "metadata": {},
   "outputs": [
    {
     "name": "stdout",
     "output_type": "stream",
     "text": [
      "Наибольший f1-score алгоритма 2, которой можно добиться при условии accuracy > 0.65 - 0.6990291262135923 при пороге 0.32\n"
     ]
    }
   ],
   "source": [
    "algorithm_32 = Variant_3(df.target, df.pred2_probs)\n",
    "print(f'Наибольший f1-score алгоритма 2, которой можно добиться при условии accuracy > 0.65 - {algorithm_32[0]} при пороге {algorithm_32[1]}')"
   ]
  },
  {
   "cell_type": "code",
   "execution_count": 64,
   "metadata": {},
   "outputs": [
    {
     "name": "stdout",
     "output_type": "stream",
     "text": [
      "Наибольший f1-score алгоритма 3, которой можно добиться при условии accuracy > 0.65 - 0.6137071651090343 при пороге 0.23\n"
     ]
    }
   ],
   "source": [
    "algorithm_33 = Variant_3(df.target, df.pred3_probs)\n",
    "print(f'Наибольший f1-score алгоритма 3, которой можно добиться при условии accuracy > 0.65 - {algorithm_33[0]} при пороге {algorithm_33[1]}')"
   ]
  },
  {
   "cell_type": "markdown",
   "metadata": {},
   "source": [
    "**Выводы:** с поставленной задачей лучше всего справилась вторая модель."
   ]
  },
  {
   "cell_type": "markdown",
   "metadata": {},
   "source": [
    "#### Кстати\n",
    "\n",
    "В python есть удобная функция classification_report, которая выводит значения нескольких метрик."
   ]
  },
  {
   "cell_type": "code",
   "execution_count": 65,
   "metadata": {},
   "outputs": [
    {
     "name": "stdout",
     "output_type": "stream",
     "text": [
      "              precision    recall  f1-score   support\n",
      "\n",
      "           0       0.65      0.84      0.73       382\n",
      "           1       0.69      0.44      0.53       307\n",
      "\n",
      "    accuracy                           0.66       689\n",
      "   macro avg       0.67      0.64      0.63       689\n",
      "weighted avg       0.67      0.66      0.65       689\n",
      "\n"
     ]
    }
   ],
   "source": [
    "from sklearn.metrics import classification_report\n",
    "\n",
    "print(classification_report(df['target'],df['pred1_classes']))"
   ]
  },
  {
   "cell_type": "markdown",
   "metadata": {},
   "source": [
    "### Обучим свою модель для предсказания target.\n",
    "\n",
    "**Задание 10.** Отнормируйте признаки в задаче и обучите логистическую регрессию предсказывать target."
   ]
  },
  {
   "cell_type": "code",
   "execution_count": 66,
   "metadata": {},
   "outputs": [
    {
     "data": {
      "text/plain": [
       "0.8780841799709724"
      ]
     },
     "execution_count": 66,
     "metadata": {},
     "output_type": "execute_result"
    }
   ],
   "source": [
    "# Разделим выборку на X и y\n",
    "X = df.iloc[:,:14]\n",
    "y = df.target\n",
    "\n",
    "# Отнормируем признаки\n",
    "scaler = StandardScaler()\n",
    "X_scaled = scaler.fit_transform(X)\n",
    "\n",
    "# Обучим логистическую регрессию \n",
    "lr = LogisticRegression()\n",
    "lr.fit(X_scaled, y)\n",
    "accuracy_score(y, lr.predict(X_scaled))"
   ]
  },
  {
   "cell_type": "markdown",
   "metadata": {},
   "source": [
    "**Промежуточный вывод:** По доле правильных ответов видно, что наш алгоритм логистической регрессии показал результат значительно выше, чем результаты алгоритмов, предложенные в приведённом выше датасете."
   ]
  },
  {
   "cell_type": "markdown",
   "metadata": {},
   "source": [
    "**Задание 11.** Подберите порог для перевода предсказания в классы, чтобы максимизировать:\n",
    "    а) точность \n",
    "    б) полноту \n",
    "    в) f1-score. \n",
    "Лучше ли логистическая регрессия справилась с задачей, чем три готовые модели, предсказания которых мы анализировали выше?"
   ]
  },
  {
   "cell_type": "code",
   "execution_count": 67,
   "metadata": {},
   "outputs": [],
   "source": [
    "# Вернём вероятности положительного класса:\n",
    "\n",
    "y_predicted_proba = lr.predict_proba(X_scaled)[:,1]"
   ]
  },
  {
   "cell_type": "code",
   "execution_count": 68,
   "metadata": {},
   "outputs": [],
   "source": [
    "def statistics_logreg(y_true, pred_probs):\n",
    "    \n",
    "    recall = []\n",
    "    precision = []\n",
    "    f1 = []\n",
    "    rapids = []\n",
    "    \n",
    "    for t in np.arange(0, 1.01, 0.01): #1.01 чтобы 1 включалось и было последним возможным порогом\n",
    "        \n",
    "        y_pred = np.zeros(y_true.shape[0])\n",
    "        y_pred[pred_probs >= t] = 1\n",
    "        rapids.append(t)\n",
    "        recall.append(recall_score(y_true, y_pred))\n",
    "        precision.append(precision_score(y_true, y_pred))\n",
    "        f1.append(f1_score(y_true, y_pred))\n",
    "    \n",
    "    rec = (np.max(recall), rapids[np.argmax(recall)]) \n",
    "    pr = (np.max(precision), rapids[np.argmax(precision)])   \n",
    "    f_1 = (np.max(f1), rapids[np.argmax(f1)])   \n",
    "    \n",
    "    print(f'Наибольшая полнота логистической регрессии, которой можно добиться - {rec[0]} при пороге {rec[1]}')\n",
    "    print(f'Наибольшая точность логистической регрессии, которой можно добиться - {pr[0]} при пороге {pr[1]}')\n",
    "    print(f'Наибольший f1-score логистической регрессии, которой можно добиться - {f_1[0]} при пороге {f_1[1]}')"
   ]
  },
  {
   "cell_type": "code",
   "execution_count": 69,
   "metadata": {},
   "outputs": [
    {
     "name": "stdout",
     "output_type": "stream",
     "text": [
      "Наибольшая полнота логистической регрессии, которой можно добиться - 1.0 при пороге 0.0\n",
      "Наибольшая точность логистической регрессии, которой можно добиться - 1.0 при пороге 0.99\n",
      "Наибольший f1-score логистической регрессии, которой можно добиться - 0.8685897435897436 при пороге 0.52\n"
     ]
    }
   ],
   "source": [
    "statistics_logreg(df.target, y_predicted_proba)"
   ]
  },
  {
   "cell_type": "markdown",
   "metadata": {},
   "source": [
    "**Вывод**: По accuracy (доле правильных ответов) и f1-score (среднее гармоническое между precision и recall) получили, что логистическая регрессия значительно превосходит эти алгоритмы. А именно логистическая регрессия имеет долю правильных ответов 0.878 против 0.662, 0.672 и 0.640 у первого, второго и третьего алгоритма соответственно; а также f1-score 0.869 против 0.672, 0.699, 0.613 у трёх предложенных в датасете алгоритмов.\n",
    "\n",
    "Что касается метрик precision и recall, то их разрешено брать при любом accuracy (нет ограничения 0.65 как в случае с готовыми алгоритмами), поэтому получили, по сути, теоретическое значение, что полнота максимальна при пороге 0 (все объекты относим к положительному классу), а точность при пороге 1."
   ]
  },
  {
   "cell_type": "code",
   "execution_count": null,
   "metadata": {},
   "outputs": [],
   "source": []
  }
 ],
 "metadata": {
  "kernelspec": {
   "display_name": "Python 3",
   "language": "python",
   "name": "python3"
  },
  "language_info": {
   "codemirror_mode": {
    "name": "ipython",
    "version": 3
   },
   "file_extension": ".py",
   "mimetype": "text/x-python",
   "name": "python",
   "nbconvert_exporter": "python",
   "pygments_lexer": "ipython3",
   "version": "3.7.6"
  }
 },
 "nbformat": 4,
 "nbformat_minor": 2
}
